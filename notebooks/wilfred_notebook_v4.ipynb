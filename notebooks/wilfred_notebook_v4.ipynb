{
 "cells": [
  {
   "cell_type": "markdown",
   "metadata": {},
   "source": [
    "# Installation\n",
    "\n",
    "- `pip install -r requirements.txt`"
   ]
  },
  {
   "cell_type": "markdown",
   "metadata": {},
   "source": [
    "# Libraries"
   ]
  },
  {
   "cell_type": "code",
   "execution_count": 2,
   "metadata": {},
   "outputs": [],
   "source": [
    "import numpy as np\n",
    "import pandas as pd\n",
    "import matplotlib.pyplot as plt\n",
    "import matplotlib.dates as mdates\n",
    "import yfinance as yf\n",
    "import pandas_ta as ta\n",
    "#import plotly.graph_objects as go\n",
    "#from plotly.subplots import make_subplots\n",
    "\n",
    "import sys\n",
    "import os\n",
    "\n",
    "# Add the path to the folder containing utils.py\n",
    "sys.path.append(os.path.abspath('../app/helpers'))\n",
    "\n",
    "import importlib\n",
    "import metric_utils\n",
    "importlib.reload(metric_utils)"
   ]
  },
  {
   "cell_type": "markdown",
   "metadata": {},
   "source": [
    "# Data Retrieval\n",
    "\n",
    "Possible user inputs are:\n",
    "\n",
    "- `tickers`\n",
    "- `start_date`\n",
    "- `end_date`\n",
    "\n",
    "[What are the stock sectors?](https://www.schwab.com/learn/story/what-are-stock-sectors)\n",
    "\n",
    "| Ticker | Company | Sector |\n",
    "|:---|:---| :---|\n",
    "| KO | Coca-Cola | Consumer Staples |\n",
    "| PEP | Pepsi | Consumer Staples |\n",
    "| WMT | Walmart | Consumer Staples |\n",
    "| SBUX | Starbucks | Consumer Discretionary |\n",
    "| MCD | McDonald's | Consumer Discretionary |\n",
    "| AAL | American Airlines | Industrials |\n",
    "| DAL | Delta Airlines | Industrials |\n",
    "| F | Ford Motors | Industrials |\n",
    "| VZ | Verizon | Communication Services |\n",
    "| T | AT&T | Communication Services |\n",
    "| DIS | Disney | Communication Services |\n",
    "| BAC | Bank of America | Financials |\n",
    "| JPM | JP Morgan | Financials |\n",
    "| MA | Mastercard | Financials |\n",
    "| V | Visa | Financials |\n",
    "| ORCL | Oracle | Information Technology |\n",
    "| AMD | AMD | Information Technology |\n",
    "| NVDA | Nvidia | Information Technology |\n",
    "| AAPL | Apple | Information Technology |\n",
    "| MSFT | Microsoft | Information Technology |"
   ]
  },
  {
   "cell_type": "code",
   "execution_count": 2,
   "metadata": {},
   "outputs": [],
   "source": [
    "# user to decide this parameters\n",
    "TICKERS = [\n",
    "    'KO','PEP','WMT', # consumer staples\n",
    "    'SBUX','MCD', # consumer discretionary\n",
    "    'AAL','DAL','F', # industrials\n",
    "    'VZ', 'T', 'DIS', # communication services\n",
    "    'BAC','JPM','MA','V', # financials\n",
    "    'ORCL','AMD','NVDA','AAPL','MSFT', # information technology\n",
    "] \n",
    "START_DATE = \"2000-01-01\"\n",
    "END_DATE = \"2024-07-31\""
   ]
  },
  {
   "cell_type": "markdown",
   "metadata": {},
   "source": [
    "Documentation: [yfinance](https://github.com/ranaroussi/yfinance/wiki/Tickers#parameters)"
   ]
  },
  {
   "cell_type": "code",
   "execution_count": null,
   "metadata": {},
   "outputs": [],
   "source": [
    "df = yf.download(tickers=TICKERS, interval=\"1d\", start=START_DATE, end=END_DATE, auto_adjust=True, group_by='ticker')\n",
    "df.head() # see how the raw data format looks"
   ]
  },
  {
   "cell_type": "code",
   "execution_count": null,
   "metadata": {},
   "outputs": [],
   "source": [
    "# reformat for easy read from store\n",
    "df = df.stack(level='Ticker')\n",
    "df.columns = [s.lower() for s in df.columns]\n",
    "df.index.names = [s.lower() for s in df.index.names]\n",
    "df.reset_index(inplace=True)\n",
    "df.head()"
   ]
  },
  {
   "cell_type": "code",
   "execution_count": null,
   "metadata": {},
   "outputs": [],
   "source": [
    "# download the benchmark data for reference later\n",
    "spy = yf.download(tickers='SPY', interval=\"1d\", start=START_DATE, end=END_DATE, auto_adjust=True)\n",
    "spy.reset_index(inplace=True)\n",
    "spy.columns = [c.lower() for c in spy.columns]\n",
    "if not spy.isnull().sum().any():\n",
    "    spy.to_csv('../app/static/data/spy.csv', index=False)\n",
    "    print(\"Saved to data/spy.csv\")"
   ]
  },
  {
   "cell_type": "code",
   "execution_count": null,
   "metadata": {},
   "outputs": [],
   "source": [
    "spy = pd.read_csv('../app/static/data/spy.csv', parse_dates=['date'])\n",
    "spy.set_index('date', inplace=True)\n",
    "spy"
   ]
  },
  {
   "cell_type": "code",
   "execution_count": null,
   "metadata": {},
   "outputs": [],
   "source": [
    "# just a performance statistic of buying and holding the S&P 500 for the entire period\n",
    "metric_utils.benchmark_performance(spy, START_DATE, END_DATE)"
   ]
  },
  {
   "cell_type": "markdown",
   "metadata": {},
   "source": [
    "# Data Cleaning\n",
    "\n",
    "Check for any missing values before storing for further processing."
   ]
  },
  {
   "cell_type": "code",
   "execution_count": null,
   "metadata": {},
   "outputs": [],
   "source": [
    "df.info()"
   ]
  },
  {
   "cell_type": "code",
   "execution_count": null,
   "metadata": {},
   "outputs": [],
   "source": [
    "df.isnull().sum()"
   ]
  },
  {
   "cell_type": "markdown",
   "metadata": {},
   "source": [
    "No missing values to fill. Market holidays have been automatically excluded."
   ]
  },
  {
   "cell_type": "markdown",
   "metadata": {},
   "source": [
    "# Data Store"
   ]
  },
  {
   "cell_type": "code",
   "execution_count": 10,
   "metadata": {},
   "outputs": [],
   "source": [
    "# format is just a csv file with column names above\n",
    "df.to_csv('../app/static/data/ohlcv.csv', index=False)"
   ]
  },
  {
   "cell_type": "markdown",
   "metadata": {},
   "source": [
    "# Data Processing\n",
    "\n",
    "Construct the indicators' values for each stock."
   ]
  },
  {
   "cell_type": "code",
   "execution_count": null,
   "metadata": {},
   "outputs": [],
   "source": [
    "# load the data into proper format for processing\n",
    "df = pd.read_csv('../app/static/data/ohlcv.csv', parse_dates=['date'])\n",
    "df.set_index(['date', 'ticker'], inplace=True)\n",
    "df.head()"
   ]
  },
  {
   "cell_type": "markdown",
   "metadata": {},
   "source": [
    "Documentation: [pandas-ta](https://twopirllc.github.io/pandas-ta/)"
   ]
  },
  {
   "cell_type": "code",
   "execution_count": 12,
   "metadata": {},
   "outputs": [],
   "source": [
    "def contruct_indicators(group):\n",
    "\n",
    "    # indicator: Simple Moving Averages\n",
    "    group['sma_5'] = ta.sma(group['close'], length=5)\n",
    "    group['sma_10'] = ta.sma(group['close'], length=10)\n",
    "    group['sma_21'] = ta.sma(group['close'], length=21)\n",
    "    group['sma_50'] = ta.sma(group['close'], length=50)\n",
    "    group['sma_100'] = ta.sma(group['close'], length=100)\n",
    "    group['sma_200'] = ta.sma(group['close'], length=200)\n",
    "\n",
    "    # indicator: Exponential Moving Averages\n",
    "    group['ema_5'] = ta.ema(group['close'], length=5)\n",
    "    group['ema_10'] = ta.ema(group['close'], length=10)\n",
    "    group['ema_21'] = ta.ema(group['close'], length=21)\n",
    "    group['ema_50'] = ta.ema(group['close'], length=50)\n",
    "    group['ema_100'] = ta.ema(group['close'], length=100)\n",
    "    group['ema_200'] = ta.ema(group['close'], length=200)\n",
    "\n",
    "    # indicator: normalized volume\n",
    "    group['norm_volume_3'] = group['volume'] / group['volume'].rolling(3).median()\n",
    "    group['norm_volume_5'] = group['volume'] / group['volume'].rolling(5).median()\n",
    "    group['norm_volume_10'] = group['volume'] / group['volume'].rolling(10).median()\n",
    "    group['norm_volume_21'] = group['volume'] / group['volume'].rolling(21).median()\n",
    "    group['norm_volume_50'] = group['volume'] / group['volume'].rolling(50).median()\n",
    "\n",
    "    # indicator: Relative Strength Index\n",
    "    group['rsi_7'] = ta.rsi(group['close'], length=7)\n",
    "    group['rsi_9'] = ta.rsi(group['close'], length=9)\n",
    "    group['rsi_10'] = ta.rsi(group['close'], length=10)\n",
    "    group['rsi_14'] = ta.rsi(group['close'], length=14)\n",
    "    \n",
    "\n",
    "    # indicator: Average Directional Index\n",
    "    adx_result = ta.adx(group['high'], group['low'], group['close'], length=3)\n",
    "    group['adx_3'] = adx_result['ADX_3']\n",
    "    group['+DI_3'] = adx_result['DMP_3']  # +DI\n",
    "    group['-DI_3'] = adx_result['DMN_3']  # -DI\n",
    "\n",
    "    adx_result = ta.adx(group['high'], group['low'], group['close'], length=5)\n",
    "    group['adx_5'] = adx_result['ADX_5']\n",
    "    group['+DI_5'] = adx_result['DMP_5']  # +DI\n",
    "    group['-DI_5'] = adx_result['DMN_5']  # -DI\n",
    "\n",
    "    adx_result = ta.adx(group['high'], group['low'], group['close'], length=7)\n",
    "    group['adx_7'] = adx_result['ADX_7']\n",
    "    group['+DI_7'] = adx_result['DMP_7']  # +DI\n",
    "    group['-DI_7'] = adx_result['DMN_7']  # -DI\n",
    "\n",
    "    adx_result = ta.adx(group['high'], group['low'], group['close'], length=14)\n",
    "    group['adx_14'] = adx_result['ADX_14']\n",
    "    group['+DI_14'] = adx_result['DMP_14']  # +DI\n",
    "    group['-DI_14'] = adx_result['DMN_14']  # -DI\n",
    "\n",
    "    # indicator: Bollinger Bands\n",
    "    bband_result = ta.bbands(group['close'])\n",
    "    group['bb_5_lb'] = bband_result['BBL_5_2.0']\n",
    "    group['bb_5_mb'] = bband_result['BBM_5_2.0']\n",
    "    group['bb_5_ub'] = bband_result['BBU_5_2.0']\n",
    "    group['bb_5_bw'] = bband_result['BBB_5_2.0']\n",
    "    group['bb_5_p'] = bband_result['BBP_5_2.0']\n",
    "\n",
    "    return group\n",
    "\n",
    "def log_returns(group, periods=[1]):\n",
    "    # daily log return\n",
    "    group['log_return'] = np.log(group['close']) -  np.log(group['close'].shift(1))\n",
    "    return group"
   ]
  },
  {
   "cell_type": "code",
   "execution_count": null,
   "metadata": {},
   "outputs": [],
   "source": [
    "df_returns = df.groupby('ticker', group_keys=False).apply(log_returns)\n",
    "df_indicators = df_returns.groupby('ticker', group_keys=False).apply(contruct_indicators)\n",
    "df_indicators"
   ]
  },
  {
   "cell_type": "markdown",
   "metadata": {},
   "source": [
    "# Data Analysis and Visualization\n",
    "\n",
    "In this section, we attempt to identify possible patterns from the technical indicators e.g. Moving Average Crossover. \\\n",
    "For it to be meaningful, we analyse the signals generated by the indicators with respect to future returns over some period.\n",
    "\n",
    "Possible WebApp Framework for Interactive Visualisation: [Dash](https://dash.plotly.com/?_gl=1*ta35r5*_gcl_au*Mjk1MjQ3NTI2LjE3MjY5MjA3ODU.*_ga*Nzk0MzAyNTg4LjE3MjY5MjA3ODY.*_ga_6G7EE0JNSC*MTcyNjkyMDc4NS4xLjAuMTcyNjkyMDc4NS42MC4wLjA)\n",
    "\n",
    "Difference between Dash and Plotly: [here](https://stackoverflow.com/questions/53146357/whats-the-difference-between-dash-and-plotly)"
   ]
  },
  {
   "cell_type": "code",
   "execution_count": null,
   "metadata": {},
   "outputs": [],
   "source": [
    "# possibly a dropdown to let user select ticker to visualize\n",
    "TICKER = 'KO'\n",
    "data = df_indicators.xs(level='ticker', key=TICKER)\n",
    "data"
   ]
  },
  {
   "cell_type": "markdown",
   "metadata": {},
   "source": [
    "### Strategy 1: EMA Crossover\n",
    "\n",
    "EMA(21) crossing over the EMA(50) is generally seen as a bullish signal.\n",
    "\n",
    "This strategy simply takes a long position when it occurs and holds it for K number of days (profiting/losing the K-day returns)."
   ]
  },
  {
   "cell_type": "code",
   "execution_count": 15,
   "metadata": {},
   "outputs": [],
   "source": [
    "DEFAULT_COLUMNS = ['open', 'high', 'low', 'close']"
   ]
  },
  {
   "cell_type": "code",
   "execution_count": 16,
   "metadata": {},
   "outputs": [],
   "source": [
    "# required indicators\n",
    "strategy = data[DEFAULT_COLUMNS + ['rsi_14', 'log_return','ema_21', 'ema_50']].dropna().copy()\n",
    "# strategy signal\n",
    "strategy['signal'] = (strategy ['ema_21'] > strategy['ema_50']).astype(np.int32)"
   ]
  },
  {
   "cell_type": "code",
   "execution_count": 17,
   "metadata": {},
   "outputs": [],
   "source": [
    "strategy['2d_log_return'] = strategy['log_return'].rolling(2).sum()\n",
    "strategy['3d_log_return'] = strategy['log_return'].rolling(3).sum()\n",
    "strategy['4d_log_return'] = strategy['log_return'].rolling(4).sum()\n",
    "strategy['5d_log_return'] = strategy['log_return'].rolling(5).sum()\n",
    "strategy['7d_log_return'] = strategy['log_return'].rolling(7).sum()\n",
    "strategy['10d_log_return'] = strategy['log_return'].rolling(10).sum()\n",
    "strategy.dropna(inplace=True)"
   ]
  },
  {
   "cell_type": "code",
   "execution_count": 18,
   "metadata": {},
   "outputs": [],
   "source": [
    "K = 7 # can change the number here as desired\n",
    "strategy['target'] = strategy[f'{K}d_log_return'].shift(-K)  \n",
    "strategy.dropna(inplace=True)\n",
    "strategy['log_returns'] = (strategy['signal'] * strategy['target'])\n",
    "strategy['returns'] = np.exp(strategy.log_returns) - 1"
   ]
  },
  {
   "cell_type": "code",
   "execution_count": null,
   "metadata": {},
   "outputs": [],
   "source": [
    "# print the performance statistic of the strategy and the buy-and-hold\n",
    "start_date = '2010-01-01'\n",
    "end_date = '2022-12-31'\n",
    "metric_utils.benchmark_performance(data, start_date, end_date)\n",
    "metric_utils.strategy_peformance(strategy.loc[start_date:end_date])"
   ]
  },
  {
   "cell_type": "code",
   "execution_count": null,
   "metadata": {},
   "outputs": [],
   "source": [
    "strategy"
   ]
  },
  {
   "cell_type": "code",
   "execution_count": null,
   "metadata": {},
   "outputs": [],
   "source": [
    "###\n",
    "start_date = '2010-01-01'\n",
    "end_date = '2022-12-31'\n",
    "metric_utils.visualise_pricechart(strategy, start=start_date, end=end_date, indicators=['EMA'], signal_marker=True)"
   ]
  },
  {
   "cell_type": "code",
   "execution_count": null,
   "metadata": {},
   "outputs": [],
   "source": [
    "# visualize the performance of the strategy\n",
    "ax = (strategy.loc[start_date:end_date].returns + 1).cumprod().plot(kind='line', label='EMA Crossover', title='Strategy Performances', ylabel='Total Return (multiples)', figsize=(10,6))\n",
    "(np.exp(strategy.loc[start_date:end_date].log_return.cumsum())).plot(kind='line', label='Buy and Hold', grid=True, ax=ax)\n",
    "ax.xaxis.set_major_locator(mdates.YearLocator())  # set ticks for each year\n",
    "ax.xaxis.set_major_formatter(mdates.DateFormatter('%Y')) # format of the year label\n",
    "plt.legend(loc='upper left');"
   ]
  },
  {
   "cell_type": "markdown",
   "metadata": {},
   "source": [
    "### Strategy 2: EMA Crossover + RSI\n",
    "\n",
    "Additional and RSI value below (above) 30 (70) is generally seen as oversold (overbought).\n",
    "\n",
    "A moving from below 30 (above 70) to above (below) it is seen as a bullish (bearish indicator). We try to overlay these two indicators to improve performance."
   ]
  },
  {
   "cell_type": "code",
   "execution_count": 25,
   "metadata": {},
   "outputs": [],
   "source": [
    "# required indicators\n",
    "strategy = data[DEFAULT_COLUMNS + \n",
    "    [\n",
    "        'volume', 'log_return',\n",
    "        'ema_5', 'ema_10','ema_21', 'ema_50',\n",
    "        'rsi_7', 'rsi_9', 'rsi_10', 'rsi_14',\n",
    "    ]\n",
    "].dropna()\n",
    "\n",
    "K = 7 # using the same K=7 as before\n",
    "RSI_K = 14\n",
    "\n",
    "# strategy idea\n",
    "# by adding more indicators as a filters, we should expect lesser trades and perhaps less volatility than previous strategy\n",
    "strategy['signal'] = (\n",
    "    (strategy['ema_21'] > strategy['ema_50']) & \n",
    "    (strategy[f'rsi_{RSI_K}'] < 50)\n",
    ").astype(np.int32)\n",
    "\n",
    "strategy['target'] = strategy['log_return'].rolling(K).sum().shift(-K)\n",
    "strategy.dropna(inplace=True)\n",
    "strategy['log_returns'] = (strategy['signal'] * strategy['target'])\n",
    "strategy['returns'] = np.exp(strategy.log_returns) - 1"
   ]
  },
  {
   "cell_type": "code",
   "execution_count": null,
   "metadata": {},
   "outputs": [],
   "source": [
    "strategy"
   ]
  },
  {
   "cell_type": "code",
   "execution_count": null,
   "metadata": {},
   "outputs": [],
   "source": [
    "# print the performance statistic of the strategy and the buy-and-hold\n",
    "start_date = '2010-01-01'\n",
    "end_date = '2022-12-31'\n",
    "metric_utils.benchmark_performance(data, start_date, end_date)\n",
    "metric_utils.strategy_peformance(strategy.loc[start_date:end_date])"
   ]
  },
  {
   "cell_type": "code",
   "execution_count": null,
   "metadata": {},
   "outputs": [],
   "source": [
    "###\n",
    "\n",
    "metric_utils.visualise_pricechart(strategy, start=start_date, end=end_date, indicators=['EMA'], signal_marker=True)"
   ]
  },
  {
   "cell_type": "markdown",
   "metadata": {},
   "source": [
    "<!-- Notice that the volatility and maximum drawndown is much lesser now, which is desirable.\n",
    "\n",
    "But as this signal occurs rarely, the number of trades decreases a lot as well. \n",
    "\n",
    "Nonetheless, this strategy can be a great addition to an arsenal of strategies. -->"
   ]
  },
  {
   "cell_type": "code",
   "execution_count": null,
   "metadata": {},
   "outputs": [],
   "source": [
    "# visualize the performance of the strategy\n",
    "ax = (strategy.loc[start_date:end_date].returns + 1).cumprod().plot(kind='line', label='EMA Crossover + RSI', title='Strategy Performances', ylabel='Total Return (multiples)', figsize=(10,6))\n",
    "(np.exp(strategy.loc[start_date:end_date].log_return.cumsum())).plot(kind='line', label='Buy and Hold', grid=True, ax=ax)\n",
    "ax.xaxis.set_major_locator(mdates.YearLocator())  # set ticks for each year\n",
    "ax.xaxis.set_major_formatter(mdates.DateFormatter('%Y')) # format of the year label\n",
    "plt.legend(loc='upper left');"
   ]
  },
  {
   "cell_type": "markdown",
   "metadata": {},
   "source": [
    "### Strategy 3: RSI + ADX"
   ]
  },
  {
   "cell_type": "code",
   "execution_count": 32,
   "metadata": {},
   "outputs": [],
   "source": [
    "# required indicators\n",
    "strategy = data[DEFAULT_COLUMNS + \n",
    "    [\n",
    "        'volume', 'log_return',\n",
    "        'rsi_7', 'rsi_9', 'rsi_10', 'rsi_14',\n",
    "        'adx_3', 'adx_5', 'adx_7', 'adx_14',\n",
    "\n",
    "    ]\n",
    "].dropna()\n",
    "\n",
    "K = 7 # using the same K=7 as before\n",
    "RSI_K = 14\n",
    "ADX_K = 14\n",
    "\n",
    "# strategy idea\n",
    "# by adding more indicators as a filters, we should expect lesser trades and perhaps less volatility\n",
    "strategy['signal'] = (\n",
    "    (strategy[f'rsi_{RSI_K}'] < 45) &\n",
    "    (strategy[f'adx_{ADX_K}'] > 30)\n",
    ").astype(np.int32)\n",
    "\n",
    "strategy['target'] = strategy['log_return'].rolling(K).sum().shift(-K)\n",
    "strategy.dropna(inplace=True)\n",
    "strategy['log_returns'] = (strategy['signal'] * strategy['target'])\n",
    "strategy['returns'] = np.exp(strategy.log_returns) - 1"
   ]
  },
  {
   "cell_type": "code",
   "execution_count": null,
   "metadata": {},
   "outputs": [],
   "source": [
    "# print the performance statistic of the strategy and the buy-and-hold\n",
    "start_date = '2010-01-01'\n",
    "end_date = '2022-12-31'\n",
    "metric_utils.benchmark_performance(data, start_date, end_date)\n",
    "metric_utils.strategy_peformance(strategy.loc[start_date:end_date])"
   ]
  },
  {
   "cell_type": "code",
   "execution_count": null,
   "metadata": {},
   "outputs": [],
   "source": [
    "metric_utils.visualise_pricechart(strategy, start=start_date, end=end_date, indicators=[], signal_marker=True)"
   ]
  },
  {
   "cell_type": "code",
   "execution_count": null,
   "metadata": {},
   "outputs": [],
   "source": [
    "# visualize the performance of the strategy\n",
    "ax = (strategy.loc[start_date:end_date].returns + 1).cumprod().plot(kind='line', label='EMA Crossover', title='Strategy Performances', ylabel='Total Return (multiples)', figsize=(10,6))\n",
    "(np.exp(strategy.loc[start_date:end_date].log_return.cumsum())).plot(kind='line', label='Buy and Hold', grid=True, ax=ax)\n",
    "ax.xaxis.set_major_locator(mdates.YearLocator())  # set ticks for each year\n",
    "ax.xaxis.set_major_formatter(mdates.DateFormatter('%Y')) # format of the year label\n",
    "plt.legend(loc='upper left');"
   ]
  },
  {
   "cell_type": "markdown",
   "metadata": {},
   "source": [
    "### Strategy 4: Machine Learning + Technical Indicators\n",
    "\n",
    "Improvement of Strategy 1. The signal EMA(21) > EMA(50) will be the condition for the model to be applied as a filter.\n",
    "The model learns the validity of the signal from other technical indicator and features such as normalised volumes, bollinger bands, distance between prices from the bounds of the bollinger bands etc."
   ]
  },
  {
   "cell_type": "code",
   "execution_count": 36,
   "metadata": {},
   "outputs": [],
   "source": [
    "from sklearn.ensemble import RandomForestClassifier\n",
    "from sklearn.metrics import accuracy_score, f1_score"
   ]
  },
  {
   "cell_type": "code",
   "execution_count": null,
   "metadata": {},
   "outputs": [],
   "source": [
    "# create features (independent variables) and target (dependent variable)\n",
    "strategy = data[DEFAULT_COLUMNS +\n",
    "    [ \n",
    "        'log_return',\n",
    "        'ema_5', 'ema_10', 'ema_21','ema_50',\n",
    "        'rsi_14',\n",
    "        'adx_14',\n",
    "        'norm_volume_5','norm_volume_10','norm_volume_21',\n",
    "        'bb_5_lb', 'bb_5_ub', 'bb_5_mb', 'bb_5_bw', 'bb_5_p'\n",
    "    ]\n",
    "].dropna()\n",
    "\n",
    "strategy['x1'] = strategy['bb_5_ub'] - strategy['close']\n",
    "strategy['x2'] = strategy['close'] - strategy['bb_5_mb']\n",
    "strategy['x3'] = strategy['close'] - strategy['bb_5_lb'] \n",
    "strategy['x4'] = strategy['close'] - strategy['ema_10']\n",
    "strategy['x5'] = strategy['ema_10'] - strategy['ema_21']\n",
    "strategy['x6'] = strategy['ema_21'] - strategy['ema_50']\n",
    "\n",
    "# create target variable to predict - idea is that since the default strategy would not be 100% accurate\n",
    "# we will use the machine learning model to learn and filter out the signals using information from other indicators\n",
    "K = 7 # using the same K=7 as before\n",
    "RSI_K = 14\n",
    "\n",
    "strategy['signal'] = (\n",
    "    strategy['ema_21'] > strategy['ema_50']\n",
    ").astype(np.int32)\n",
    "strategy['returns'] = np.exp(strategy['signal'] * strategy['log_return'].rolling(K).sum().shift(-K)) - 1\n",
    "strategy.dropna(inplace=True)\n",
    "\n",
    "dataset = strategy[strategy.signal == 1].copy()\n",
    "dataset['target'] = (dataset.returns > 0).astype(np.int32)\n",
    "\n",
    "# train-test split\n",
    "TRAIN_END = '2022-12-31' # define last period of training date\n",
    "TEST_PERIOD_WEEKS = 52\n",
    "TEST_START = str((pd.to_datetime(TRAIN_END) + pd.Timedelta(value=TEST_PERIOD_WEEKS, unit='W')).date())\n",
    "train = dataset.loc[:TRAIN_END]\n",
    "test = dataset.loc[TEST_START:]\n",
    "\n",
    "# train the model \n",
    "FEATURES = ['rsi_14', 'adx_14', 'bb_5_bw', 'bb_5_p','norm_volume_5', 'norm_volume_10','x1', 'x2', 'x3', 'x4', 'x5', 'x6']\n",
    "train_X, train_y = train[FEATURES], train['target']\n",
    "model = RandomForestClassifier() # instantiate the model \n",
    "model.fit(train_X, train_y) # this api call trains the model"
   ]
  },
  {
   "cell_type": "code",
   "execution_count": null,
   "metadata": {},
   "outputs": [],
   "source": [
    "# evaluate the model accuracy\n",
    "test_X, test_y = test[FEATURES], test['target']\n",
    "y_pred = model.predict(test_X)\n",
    "acc = accuracy_score(test_y, y_pred)\n",
    "f1 = f1_score(test_y, y_pred)\n",
    "\n",
    "print(f\"Model Accuracy: {acc*100:.2f}%\")\n",
    "# print(f\"Model F1-Score: {f1:.2f}\")"
   ]
  },
  {
   "cell_type": "code",
   "execution_count": null,
   "metadata": {},
   "outputs": [],
   "source": [
    "# without using model\n",
    "out_of_sample_without_model = strategy[strategy.signal == 1].loc[TEST_START:]\n",
    "metric_utils.strategy_peformance(out_of_sample_without_model)"
   ]
  },
  {
   "cell_type": "code",
   "execution_count": null,
   "metadata": {},
   "outputs": [],
   "source": [
    "# visualize the performance of the strategy without using model\n",
    "(out_of_sample_without_model.returns + 1).cumprod().plot(kind='line', grid=True, title='Strategy Performance', figsize=(10,6));"
   ]
  },
  {
   "cell_type": "code",
   "execution_count": null,
   "metadata": {},
   "outputs": [],
   "source": [
    "# strategy performance using the model\n",
    "# notice the large decrease in maximum drawdown, the model was able to filter our drastic false signals\n",
    "# winning rate has also improved a lot\n",
    "out_of_sample_with_model = strategy[strategy.signal == 1].loc[TEST_START:].copy()\n",
    "out_of_sample_with_model['signal'] = y_pred\n",
    "out_of_sample_with_model = out_of_sample_with_model[out_of_sample_with_model.signal == 1]\n",
    "metric_utils.strategy_peformance(out_of_sample_with_model)"
   ]
  },
  {
   "cell_type": "code",
   "execution_count": 86,
   "metadata": {},
   "outputs": [],
   "source": [
    "# utils.benchmark_performance(spy, '2024-01-01', '2024-07-20') # and we kind of beat the index as well"
   ]
  },
  {
   "cell_type": "code",
   "execution_count": 49,
   "metadata": {},
   "outputs": [],
   "source": [
    "strategy['signal'] = 0\n",
    "for datetime in out_of_sample_with_model.index:\n",
    "    strategy.at[datetime, 'signal'] = 1"
   ]
  },
  {
   "cell_type": "code",
   "execution_count": null,
   "metadata": {},
   "outputs": [],
   "source": [
    "metric_utils.visualise_pricechart(strategy, start=str(test.index[0].date()), end=str(test.index[-1].date()), indicators=[], signal_marker=True)"
   ]
  },
  {
   "cell_type": "code",
   "execution_count": null,
   "metadata": {},
   "outputs": [],
   "source": [
    "# visualize the performance of the strategy using model - notice the fewer sharp drops throughout the period\n",
    "(out_of_sample_with_model.returns + 1).cumprod().plot(kind='line', grid=True, title='Strategy Performance', figsize=(10,6));"
   ]
  },
  {
   "cell_type": "code",
   "execution_count": null,
   "metadata": {},
   "outputs": [],
   "source": [
    "ax = (out_of_sample_without_model.returns + 1).cumprod().plot(kind='line', label='Strategy 1: EMA Crossover', title='Strategy Performances', ylabel='Total Return (multiples)', figsize=(10,6))\n",
    "(out_of_sample_with_model.returns + 1).cumprod().plot(kind='line', label='Strategy 4: Strategy 1 + ML Filter', grid=True, ax=ax)\n",
    "# ax.xaxis.set_major_locator(mdates.YearLocator())  # set ticks for each year\n",
    "# ax.xaxis.set_major_formatter(mdates.DateFormatter('%Y')) # format of the year label\n",
    "plt.legend(loc='upper left');"
   ]
  },
  {
   "cell_type": "markdown",
   "metadata": {},
   "source": [
    "### Simple Price Chart Visualisation"
   ]
  },
  {
   "cell_type": "code",
   "execution_count": 175,
   "metadata": {},
   "outputs": [],
   "source": [
    "# # TO BE REFINED LATER ON IF NEED BE:\n",
    "\n",
    "# # Create subplots: 2 rows, 1 column with shared x-axis\n",
    "# fig = make_subplots(\n",
    "#     rows=2, cols=1,\n",
    "#     shared_xaxes=True,\n",
    "#     vertical_spacing=0.1,\n",
    "#     row_heights=[0.7, 0.3],  # Relative heights of the subplots\n",
    "#     subplot_titles=[f'Candlestick with SMA for {TICKER}', 'RSI and ADX']\n",
    "# )\n",
    "\n",
    "# # Add candlestick trace to the first row\n",
    "# fig.add_trace(\n",
    "#     go.Candlestick(\n",
    "#         x=data.index,\n",
    "#         open=data['open'],\n",
    "#         high=data['high'],\n",
    "#         low=data['low'],\n",
    "#         close=data['close'],\n",
    "#         name='Candlestick'\n",
    "#     ),\n",
    "#     row=1, col=1\n",
    "# )\n",
    "\n",
    "# # Add moving average trace to the first row\n",
    "# fig.add_trace(\n",
    "#     go.Scatter(\n",
    "#         x=data.index,\n",
    "#         y=data['sma_10'],\n",
    "#         mode='lines',\n",
    "#         name='SMA(10)',\n",
    "#         line=dict(color='green', width=1)\n",
    "#     ),\n",
    "#     row=1, col=1\n",
    "# )\n",
    "# fig.add_trace(\n",
    "#     go.Scatter(\n",
    "#         x=data.index,\n",
    "#         y=data['sma_21'],\n",
    "#         mode='lines',\n",
    "#         name='SMA(21)',\n",
    "#         line=dict(color='blue', width=1)\n",
    "#     ),\n",
    "#     row=1, col=1\n",
    "# )\n",
    "\n",
    "# # Add RSI trace to the second row\n",
    "# fig.add_trace(\n",
    "#     go.Scatter(\n",
    "#         x=data.index,\n",
    "#         y=data['rsi_7'],\n",
    "#         mode='lines',\n",
    "#         name='RSI 7',\n",
    "#         line=dict(color='purple', width=2)\n",
    "#     ),\n",
    "#     row=2, col=1\n",
    "# )\n",
    "\n",
    "# # # Add ADX trace to the second row\n",
    "# fig.add_trace(\n",
    "#     go.Scatter(\n",
    "#         x=data.index,\n",
    "#         y=data['adx_14'],\n",
    "#         mode='lines',\n",
    "#         name='ADX 14',\n",
    "#         line=dict(color='green', width=2)\n",
    "#     ),\n",
    "#     row=2, col=1\n",
    "# )\n",
    "\n",
    "# # Update layout for the subplots\n",
    "# fig.update_layout(\n",
    "#     title=f'OHLC with SMA and Indicators for {TICKER}',\n",
    "#     xaxis2_title='Date',  # Title for the second subplot's x-axis\n",
    "#     yaxis=dict(title='OHLC'),\n",
    "#     width=1200,\n",
    "#     height=800,\n",
    "#     yaxis2=dict(title='RSI & ADX (0-100)', range=[0, 100]),  # Set the y-axis range for RSI and ADX\n",
    "#     xaxis_rangeslider_visible=False,  # Hide range slider\n",
    "#     legend=dict(x=0.01, y=0.99)\n",
    "# )\n",
    "# fig.show()"
   ]
  },
  {
   "cell_type": "code",
   "execution_count": null,
   "metadata": {},
   "outputs": [],
   "source": []
  }
 ],
 "metadata": {
  "kernelspec": {
   "display_name": "stockanalyzerenv",
   "language": "python",
   "name": "python3"
  },
  "language_info": {
   "codemirror_mode": {
    "name": "ipython",
    "version": 3
   },
   "file_extension": ".py",
   "mimetype": "text/x-python",
   "name": "python",
   "nbconvert_exporter": "python",
   "pygments_lexer": "ipython3",
   "version": "3.12.6"
  }
 },
 "nbformat": 4,
 "nbformat_minor": 2
}
