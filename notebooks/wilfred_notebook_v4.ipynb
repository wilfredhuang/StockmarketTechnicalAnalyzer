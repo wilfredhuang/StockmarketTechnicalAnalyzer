{
 "cells": [
  {
   "cell_type": "markdown",
   "metadata": {},
   "source": [
    "# Installation\n",
    "\n",
    "- `pip install -r requirements.txt`"
   ]
  },
  {
   "cell_type": "markdown",
   "metadata": {},
   "source": [
    "# Libraries"
   ]
  },
  {
   "cell_type": "code",
   "execution_count": 1,
   "metadata": {},
   "outputs": [
    {
     "data": {
      "text/plain": [
       "<module 'utils' from 'c:\\\\Users\\\\whjw1\\\\Documents\\\\GitHub\\\\PythonProjectsDirectory\\\\StockmarketTechnicalAnalyzer\\\\app\\\\helpers\\\\utils.py'>"
      ]
     },
     "execution_count": 1,
     "metadata": {},
     "output_type": "execute_result"
    }
   ],
   "source": [
    "import numpy as np\n",
    "import pandas as pd\n",
    "import matplotlib.pyplot as plt\n",
    "import matplotlib.dates as mdates\n",
    "import seaborn as sns\n",
    "import yfinance as yf\n",
    "import pandas_ta as ta\n",
    "import plotly.graph_objects as go\n",
    "from plotly.subplots import make_subplots\n",
    "\n",
    "import sys\n",
    "import os\n",
    "\n",
    "# Add the path to the folder containing utils.py\n",
    "sys.path.append(os.path.abspath('../app/helpers'))\n",
    "\n",
    "import importlib\n",
    "import metric_utils\n",
    "importlib.reload(metric_utils)"
   ]
  },
  {
   "cell_type": "markdown",
   "metadata": {},
   "source": [
    "# Data Retrieval\n",
    "\n",
    "Possible user inputs are:\n",
    "\n",
    "- `tickers`\n",
    "- `start_date`\n",
    "- `end_date`\n",
    "\n",
    "[What are the stock sectors?](https://www.schwab.com/learn/story/what-are-stock-sectors)\n",
    "\n",
    "| Ticker | Company | Sector |\n",
    "|:---|:---| :---|\n",
    "| KO | Coca-Cola | Consumer Staples |\n",
    "| PEP | Pepsi | Consumer Staples |\n",
    "| WMT | Walmart | Consumer Staples |\n",
    "| SBUX | Starbucks | Consumer Discretionary |\n",
    "| MCD | McDonald's | Consumer Discretionary |\n",
    "| AAL | American Airlines | Industrials |\n",
    "| DAL | Delta Airlines | Industrials |\n",
    "| F | Ford Motors | Industrials |\n",
    "| VZ | Verizon | Communication Services |\n",
    "| T | AT&T | Communication Services |\n",
    "| DIS | Disney | Communication Services |\n",
    "| BAC | Bank of America | Financials |\n",
    "| JPM | JP Morgan | Financials |\n",
    "| MA | Mastercard | Financials |\n",
    "| V | Visa | Financials |\n",
    "| ORCL | Oracle | Information Technology |\n",
    "| AMD | AMD | Information Technology |\n",
    "| NVDA | Nvidia | Information Technology |\n",
    "| AAPL | Apple | Information Technology |\n",
    "| MSFT | Microsoft | Information Technology |"
   ]
  },
  {
   "cell_type": "code",
   "execution_count": 3,
   "metadata": {},
   "outputs": [],
   "source": [
    "# user to decide this parameters\n",
    "TICKERS = [\n",
    "    'KO','PEP','WMT', # consumer staples\n",
    "    'SBUX','MCD', # consumer discretionary\n",
    "    'AAL','DAL','F', # industrials\n",
    "    'VZ', 'T', 'DIS', # communication services\n",
    "    'BAC','JPM','MA','V', # financials\n",
    "    'ORCL','AMD','NVDA','AAPL','MSFT', # information technology\n",
    "] \n",
    "START_DATE = \"2000-01-01\"\n",
    "END_DATE = \"2024-07-31\""
   ]
  },
  {
   "cell_type": "markdown",
   "metadata": {},
   "source": [
    "Documentation: [yfinance](https://github.com/ranaroussi/yfinance/wiki/Tickers#parameters)"
   ]
  },
  {
   "cell_type": "code",
   "execution_count": 4,
   "metadata": {},
   "outputs": [
    {
     "name": "stderr",
     "output_type": "stream",
     "text": [
      "[*********************100%***********************]  20 of 20 completed\n"
     ]
    },
    {
     "data": {
      "text/html": [
       "<div>\n",
       "<style scoped>\n",
       "    .dataframe tbody tr th:only-of-type {\n",
       "        vertical-align: middle;\n",
       "    }\n",
       "\n",
       "    .dataframe tbody tr th {\n",
       "        vertical-align: top;\n",
       "    }\n",
       "\n",
       "    .dataframe thead tr th {\n",
       "        text-align: left;\n",
       "    }\n",
       "\n",
       "    .dataframe thead tr:last-of-type th {\n",
       "        text-align: right;\n",
       "    }\n",
       "</style>\n",
       "<table border=\"1\" class=\"dataframe\">\n",
       "  <thead>\n",
       "    <tr>\n",
       "      <th>Ticker</th>\n",
       "      <th colspan=\"5\" halign=\"left\">DAL</th>\n",
       "      <th colspan=\"5\" halign=\"left\">MA</th>\n",
       "      <th>...</th>\n",
       "      <th colspan=\"5\" halign=\"left\">AAL</th>\n",
       "      <th colspan=\"5\" halign=\"left\">VZ</th>\n",
       "    </tr>\n",
       "    <tr>\n",
       "      <th>Price</th>\n",
       "      <th>Open</th>\n",
       "      <th>High</th>\n",
       "      <th>Low</th>\n",
       "      <th>Close</th>\n",
       "      <th>Volume</th>\n",
       "      <th>Open</th>\n",
       "      <th>High</th>\n",
       "      <th>Low</th>\n",
       "      <th>Close</th>\n",
       "      <th>Volume</th>\n",
       "      <th>...</th>\n",
       "      <th>Open</th>\n",
       "      <th>High</th>\n",
       "      <th>Low</th>\n",
       "      <th>Close</th>\n",
       "      <th>Volume</th>\n",
       "      <th>Open</th>\n",
       "      <th>High</th>\n",
       "      <th>Low</th>\n",
       "      <th>Close</th>\n",
       "      <th>Volume</th>\n",
       "    </tr>\n",
       "    <tr>\n",
       "      <th>Date</th>\n",
       "      <th></th>\n",
       "      <th></th>\n",
       "      <th></th>\n",
       "      <th></th>\n",
       "      <th></th>\n",
       "      <th></th>\n",
       "      <th></th>\n",
       "      <th></th>\n",
       "      <th></th>\n",
       "      <th></th>\n",
       "      <th></th>\n",
       "      <th></th>\n",
       "      <th></th>\n",
       "      <th></th>\n",
       "      <th></th>\n",
       "      <th></th>\n",
       "      <th></th>\n",
       "      <th></th>\n",
       "      <th></th>\n",
       "      <th></th>\n",
       "      <th></th>\n",
       "    </tr>\n",
       "  </thead>\n",
       "  <tbody>\n",
       "    <tr>\n",
       "      <th>2000-01-03 00:00:00+00:00</th>\n",
       "      <td>NaN</td>\n",
       "      <td>NaN</td>\n",
       "      <td>NaN</td>\n",
       "      <td>NaN</td>\n",
       "      <td>NaN</td>\n",
       "      <td>NaN</td>\n",
       "      <td>NaN</td>\n",
       "      <td>NaN</td>\n",
       "      <td>NaN</td>\n",
       "      <td>NaN</td>\n",
       "      <td>...</td>\n",
       "      <td>NaN</td>\n",
       "      <td>NaN</td>\n",
       "      <td>NaN</td>\n",
       "      <td>NaN</td>\n",
       "      <td>NaN</td>\n",
       "      <td>17.102794</td>\n",
       "      <td>17.384902</td>\n",
       "      <td>16.820686</td>\n",
       "      <td>16.908844</td>\n",
       "      <td>4663843</td>\n",
       "    </tr>\n",
       "    <tr>\n",
       "      <th>2000-01-04 00:00:00+00:00</th>\n",
       "      <td>NaN</td>\n",
       "      <td>NaN</td>\n",
       "      <td>NaN</td>\n",
       "      <td>NaN</td>\n",
       "      <td>NaN</td>\n",
       "      <td>NaN</td>\n",
       "      <td>NaN</td>\n",
       "      <td>NaN</td>\n",
       "      <td>NaN</td>\n",
       "      <td>NaN</td>\n",
       "      <td>...</td>\n",
       "      <td>NaN</td>\n",
       "      <td>NaN</td>\n",
       "      <td>NaN</td>\n",
       "      <td>NaN</td>\n",
       "      <td>NaN</td>\n",
       "      <td>16.838323</td>\n",
       "      <td>17.049904</td>\n",
       "      <td>16.150686</td>\n",
       "      <td>16.362267</td>\n",
       "      <td>5005878</td>\n",
       "    </tr>\n",
       "    <tr>\n",
       "      <th>2000-01-05 00:00:00+00:00</th>\n",
       "      <td>NaN</td>\n",
       "      <td>NaN</td>\n",
       "      <td>NaN</td>\n",
       "      <td>NaN</td>\n",
       "      <td>NaN</td>\n",
       "      <td>NaN</td>\n",
       "      <td>NaN</td>\n",
       "      <td>NaN</td>\n",
       "      <td>NaN</td>\n",
       "      <td>NaN</td>\n",
       "      <td>...</td>\n",
       "      <td>NaN</td>\n",
       "      <td>NaN</td>\n",
       "      <td>NaN</td>\n",
       "      <td>NaN</td>\n",
       "      <td>NaN</td>\n",
       "      <td>16.644368</td>\n",
       "      <td>17.155688</td>\n",
       "      <td>16.503315</td>\n",
       "      <td>16.908844</td>\n",
       "      <td>6368681</td>\n",
       "    </tr>\n",
       "    <tr>\n",
       "      <th>2000-01-06 00:00:00+00:00</th>\n",
       "      <td>NaN</td>\n",
       "      <td>NaN</td>\n",
       "      <td>NaN</td>\n",
       "      <td>NaN</td>\n",
       "      <td>NaN</td>\n",
       "      <td>NaN</td>\n",
       "      <td>NaN</td>\n",
       "      <td>NaN</td>\n",
       "      <td>NaN</td>\n",
       "      <td>NaN</td>\n",
       "      <td>...</td>\n",
       "      <td>NaN</td>\n",
       "      <td>NaN</td>\n",
       "      <td>NaN</td>\n",
       "      <td>NaN</td>\n",
       "      <td>NaN</td>\n",
       "      <td>16.947176</td>\n",
       "      <td>16.947176</td>\n",
       "      <td>16.574516</td>\n",
       "      <td>16.822956</td>\n",
       "      <td>4705763</td>\n",
       "    </tr>\n",
       "    <tr>\n",
       "      <th>2000-01-07 00:00:00+00:00</th>\n",
       "      <td>NaN</td>\n",
       "      <td>NaN</td>\n",
       "      <td>NaN</td>\n",
       "      <td>NaN</td>\n",
       "      <td>NaN</td>\n",
       "      <td>NaN</td>\n",
       "      <td>NaN</td>\n",
       "      <td>NaN</td>\n",
       "      <td>NaN</td>\n",
       "      <td>NaN</td>\n",
       "      <td>...</td>\n",
       "      <td>NaN</td>\n",
       "      <td>NaN</td>\n",
       "      <td>NaN</td>\n",
       "      <td>NaN</td>\n",
       "      <td>NaN</td>\n",
       "      <td>16.716486</td>\n",
       "      <td>16.769723</td>\n",
       "      <td>16.414808</td>\n",
       "      <td>16.698740</td>\n",
       "      <td>5043907</td>\n",
       "    </tr>\n",
       "  </tbody>\n",
       "</table>\n",
       "<p>5 rows × 100 columns</p>\n",
       "</div>"
      ],
      "text/plain": [
       "Ticker                     DAL                         MA                 \\\n",
       "Price                     Open High Low Close Volume Open High Low Close   \n",
       "Date                                                                       \n",
       "2000-01-03 00:00:00+00:00  NaN  NaN NaN   NaN    NaN  NaN  NaN NaN   NaN   \n",
       "2000-01-04 00:00:00+00:00  NaN  NaN NaN   NaN    NaN  NaN  NaN NaN   NaN   \n",
       "2000-01-05 00:00:00+00:00  NaN  NaN NaN   NaN    NaN  NaN  NaN NaN   NaN   \n",
       "2000-01-06 00:00:00+00:00  NaN  NaN NaN   NaN    NaN  NaN  NaN NaN   NaN   \n",
       "2000-01-07 00:00:00+00:00  NaN  NaN NaN   NaN    NaN  NaN  NaN NaN   NaN   \n",
       "\n",
       "Ticker                            ...  AAL                               VZ  \\\n",
       "Price                     Volume  ... Open High Low Close Volume       Open   \n",
       "Date                              ...                                         \n",
       "2000-01-03 00:00:00+00:00    NaN  ...  NaN  NaN NaN   NaN    NaN  17.102794   \n",
       "2000-01-04 00:00:00+00:00    NaN  ...  NaN  NaN NaN   NaN    NaN  16.838323   \n",
       "2000-01-05 00:00:00+00:00    NaN  ...  NaN  NaN NaN   NaN    NaN  16.644368   \n",
       "2000-01-06 00:00:00+00:00    NaN  ...  NaN  NaN NaN   NaN    NaN  16.947176   \n",
       "2000-01-07 00:00:00+00:00    NaN  ...  NaN  NaN NaN   NaN    NaN  16.716486   \n",
       "\n",
       "Ticker                                                               \n",
       "Price                           High        Low      Close   Volume  \n",
       "Date                                                                 \n",
       "2000-01-03 00:00:00+00:00  17.384902  16.820686  16.908844  4663843  \n",
       "2000-01-04 00:00:00+00:00  17.049904  16.150686  16.362267  5005878  \n",
       "2000-01-05 00:00:00+00:00  17.155688  16.503315  16.908844  6368681  \n",
       "2000-01-06 00:00:00+00:00  16.947176  16.574516  16.822956  4705763  \n",
       "2000-01-07 00:00:00+00:00  16.769723  16.414808  16.698740  5043907  \n",
       "\n",
       "[5 rows x 100 columns]"
      ]
     },
     "execution_count": 4,
     "metadata": {},
     "output_type": "execute_result"
    }
   ],
   "source": [
    "df = yf.download(tickers=TICKERS, interval=\"1d\", start=START_DATE, end=END_DATE, auto_adjust=True, group_by='ticker')\n",
    "df.head() # see how the raw data format looks"
   ]
  },
  {
   "cell_type": "code",
   "execution_count": 5,
   "metadata": {},
   "outputs": [
    {
     "name": "stderr",
     "output_type": "stream",
     "text": [
      "C:\\Users\\whjw1\\AppData\\Local\\Temp\\ipykernel_19292\\4229889244.py:2: FutureWarning: The previous implementation of stack is deprecated and will be removed in a future version of pandas. See the What's New notes for pandas 2.1.0 for details. Specify future_stack=True to adopt the new implementation and silence this warning.\n",
      "  df = df.stack(level='Ticker')\n"
     ]
    },
    {
     "data": {
      "text/html": [
       "<div>\n",
       "<style scoped>\n",
       "    .dataframe tbody tr th:only-of-type {\n",
       "        vertical-align: middle;\n",
       "    }\n",
       "\n",
       "    .dataframe tbody tr th {\n",
       "        vertical-align: top;\n",
       "    }\n",
       "\n",
       "    .dataframe thead th {\n",
       "        text-align: right;\n",
       "    }\n",
       "</style>\n",
       "<table border=\"1\" class=\"dataframe\">\n",
       "  <thead>\n",
       "    <tr style=\"text-align: right;\">\n",
       "      <th></th>\n",
       "      <th>date</th>\n",
       "      <th>ticker</th>\n",
       "      <th>open</th>\n",
       "      <th>high</th>\n",
       "      <th>low</th>\n",
       "      <th>close</th>\n",
       "      <th>volume</th>\n",
       "    </tr>\n",
       "  </thead>\n",
       "  <tbody>\n",
       "    <tr>\n",
       "      <th>0</th>\n",
       "      <td>2000-01-03 00:00:00+00:00</td>\n",
       "      <td>AAPL</td>\n",
       "      <td>0.790753</td>\n",
       "      <td>0.848245</td>\n",
       "      <td>0.766719</td>\n",
       "      <td>0.844004</td>\n",
       "      <td>535796800.0</td>\n",
       "    </tr>\n",
       "    <tr>\n",
       "      <th>1</th>\n",
       "      <td>2000-01-03 00:00:00+00:00</td>\n",
       "      <td>AMD</td>\n",
       "      <td>14.968750</td>\n",
       "      <td>15.593750</td>\n",
       "      <td>14.687500</td>\n",
       "      <td>15.500000</td>\n",
       "      <td>7843200.0</td>\n",
       "    </tr>\n",
       "    <tr>\n",
       "      <th>2</th>\n",
       "      <td>2000-01-03 00:00:00+00:00</td>\n",
       "      <td>BAC</td>\n",
       "      <td>13.263153</td>\n",
       "      <td>13.263153</td>\n",
       "      <td>12.669280</td>\n",
       "      <td>12.784756</td>\n",
       "      <td>13705800.0</td>\n",
       "    </tr>\n",
       "    <tr>\n",
       "      <th>3</th>\n",
       "      <td>2000-01-03 00:00:00+00:00</td>\n",
       "      <td>DIS</td>\n",
       "      <td>22.454555</td>\n",
       "      <td>22.982333</td>\n",
       "      <td>22.070717</td>\n",
       "      <td>22.934353</td>\n",
       "      <td>8402230.0</td>\n",
       "    </tr>\n",
       "    <tr>\n",
       "      <th>4</th>\n",
       "      <td>2000-01-03 00:00:00+00:00</td>\n",
       "      <td>F</td>\n",
       "      <td>12.593084</td>\n",
       "      <td>12.697528</td>\n",
       "      <td>12.443876</td>\n",
       "      <td>12.503559</td>\n",
       "      <td>4056814.0</td>\n",
       "    </tr>\n",
       "  </tbody>\n",
       "</table>\n",
       "</div>"
      ],
      "text/plain": [
       "                       date ticker       open       high        low  \\\n",
       "0 2000-01-03 00:00:00+00:00   AAPL   0.790753   0.848245   0.766719   \n",
       "1 2000-01-03 00:00:00+00:00    AMD  14.968750  15.593750  14.687500   \n",
       "2 2000-01-03 00:00:00+00:00    BAC  13.263153  13.263153  12.669280   \n",
       "3 2000-01-03 00:00:00+00:00    DIS  22.454555  22.982333  22.070717   \n",
       "4 2000-01-03 00:00:00+00:00      F  12.593084  12.697528  12.443876   \n",
       "\n",
       "       close       volume  \n",
       "0   0.844004  535796800.0  \n",
       "1  15.500000    7843200.0  \n",
       "2  12.784756   13705800.0  \n",
       "3  22.934353    8402230.0  \n",
       "4  12.503559    4056814.0  "
      ]
     },
     "execution_count": 5,
     "metadata": {},
     "output_type": "execute_result"
    }
   ],
   "source": [
    "# reformat for easy read from store\n",
    "df = df.stack(level='Ticker')\n",
    "df.columns = [s.lower() for s in df.columns]\n",
    "df.index.names = [s.lower() for s in df.index.names]\n",
    "df.reset_index(inplace=True)\n",
    "df.head()"
   ]
  },
  {
   "cell_type": "code",
   "execution_count": 6,
   "metadata": {},
   "outputs": [
    {
     "name": "stderr",
     "output_type": "stream",
     "text": [
      "[*********************100%***********************]  1 of 1 completed"
     ]
    },
    {
     "name": "stdout",
     "output_type": "stream",
     "text": [
      "Saved to data/spy.csv\n"
     ]
    },
    {
     "name": "stderr",
     "output_type": "stream",
     "text": [
      "\n"
     ]
    }
   ],
   "source": [
    "# download the benchmark data for reference later\n",
    "spy = yf.download(tickers='SPY', interval=\"1d\", start=START_DATE, end=END_DATE, auto_adjust=True)\n",
    "spy.reset_index(inplace=True)\n",
    "spy.columns = [c.lower() for c in spy.columns]\n",
    "if not spy.isnull().sum().any():\n",
    "    spy.to_csv('../app/static/data/spy.csv', index=False)\n",
    "    print(\"Saved to data/spy.csv\")"
   ]
  },
  {
   "cell_type": "code",
   "execution_count": 7,
   "metadata": {},
   "outputs": [
    {
     "data": {
      "text/html": [
       "<div>\n",
       "<style scoped>\n",
       "    .dataframe tbody tr th:only-of-type {\n",
       "        vertical-align: middle;\n",
       "    }\n",
       "\n",
       "    .dataframe tbody tr th {\n",
       "        vertical-align: top;\n",
       "    }\n",
       "\n",
       "    .dataframe thead th {\n",
       "        text-align: right;\n",
       "    }\n",
       "</style>\n",
       "<table border=\"1\" class=\"dataframe\">\n",
       "  <thead>\n",
       "    <tr style=\"text-align: right;\">\n",
       "      <th></th>\n",
       "      <th>open</th>\n",
       "      <th>high</th>\n",
       "      <th>low</th>\n",
       "      <th>close</th>\n",
       "      <th>volume</th>\n",
       "    </tr>\n",
       "    <tr>\n",
       "      <th>date</th>\n",
       "      <th></th>\n",
       "      <th></th>\n",
       "      <th></th>\n",
       "      <th></th>\n",
       "      <th></th>\n",
       "    </tr>\n",
       "  </thead>\n",
       "  <tbody>\n",
       "    <tr>\n",
       "      <th>2000-01-03</th>\n",
       "      <td>94.803446</td>\n",
       "      <td>94.803446</td>\n",
       "      <td>92.005705</td>\n",
       "      <td>93.004898</td>\n",
       "      <td>8164300</td>\n",
       "    </tr>\n",
       "    <tr>\n",
       "      <th>2000-01-04</th>\n",
       "      <td>91.785915</td>\n",
       "      <td>92.125641</td>\n",
       "      <td>89.297923</td>\n",
       "      <td>89.367867</td>\n",
       "      <td>8089800</td>\n",
       "    </tr>\n",
       "    <tr>\n",
       "      <th>2000-01-05</th>\n",
       "      <td>89.487727</td>\n",
       "      <td>90.506904</td>\n",
       "      <td>87.769115</td>\n",
       "      <td>89.527695</td>\n",
       "      <td>12177900</td>\n",
       "    </tr>\n",
       "    <tr>\n",
       "      <th>2000-01-06</th>\n",
       "      <td>89.287883</td>\n",
       "      <td>90.486915</td>\n",
       "      <td>88.088852</td>\n",
       "      <td>88.088852</td>\n",
       "      <td>6227200</td>\n",
       "    </tr>\n",
       "    <tr>\n",
       "      <th>2000-01-07</th>\n",
       "      <td>89.727557</td>\n",
       "      <td>93.204750</td>\n",
       "      <td>89.567686</td>\n",
       "      <td>93.204750</td>\n",
       "      <td>8066500</td>\n",
       "    </tr>\n",
       "    <tr>\n",
       "      <th>...</th>\n",
       "      <td>...</td>\n",
       "      <td>...</td>\n",
       "      <td>...</td>\n",
       "      <td>...</td>\n",
       "      <td>...</td>\n",
       "    </tr>\n",
       "    <tr>\n",
       "      <th>2024-07-24</th>\n",
       "      <td>547.181624</td>\n",
       "      <td>547.490674</td>\n",
       "      <td>538.637823</td>\n",
       "      <td>539.574951</td>\n",
       "      <td>74515300</td>\n",
       "    </tr>\n",
       "    <tr>\n",
       "      <th>2024-07-25</th>\n",
       "      <td>539.694562</td>\n",
       "      <td>545.785924</td>\n",
       "      <td>535.806524</td>\n",
       "      <td>536.763550</td>\n",
       "      <td>61158300</td>\n",
       "    </tr>\n",
       "    <tr>\n",
       "      <th>2024-07-26</th>\n",
       "      <td>540.621778</td>\n",
       "      <td>545.516737</td>\n",
       "      <td>539.834155</td>\n",
       "      <td>542.775146</td>\n",
       "      <td>53763800</td>\n",
       "    </tr>\n",
       "    <tr>\n",
       "      <th>2024-07-29</th>\n",
       "      <td>544.350334</td>\n",
       "      <td>545.377153</td>\n",
       "      <td>541.060376</td>\n",
       "      <td>543.094177</td>\n",
       "      <td>39515800</td>\n",
       "    </tr>\n",
       "    <tr>\n",
       "      <th>2024-07-30</th>\n",
       "      <td>544.589573</td>\n",
       "      <td>545.666288</td>\n",
       "      <td>536.873251</td>\n",
       "      <td>540.342590</td>\n",
       "      <td>46853600</td>\n",
       "    </tr>\n",
       "  </tbody>\n",
       "</table>\n",
       "<p>6182 rows × 5 columns</p>\n",
       "</div>"
      ],
      "text/plain": [
       "                  open        high         low       close    volume\n",
       "date                                                                \n",
       "2000-01-03   94.803446   94.803446   92.005705   93.004898   8164300\n",
       "2000-01-04   91.785915   92.125641   89.297923   89.367867   8089800\n",
       "2000-01-05   89.487727   90.506904   87.769115   89.527695  12177900\n",
       "2000-01-06   89.287883   90.486915   88.088852   88.088852   6227200\n",
       "2000-01-07   89.727557   93.204750   89.567686   93.204750   8066500\n",
       "...                ...         ...         ...         ...       ...\n",
       "2024-07-24  547.181624  547.490674  538.637823  539.574951  74515300\n",
       "2024-07-25  539.694562  545.785924  535.806524  536.763550  61158300\n",
       "2024-07-26  540.621778  545.516737  539.834155  542.775146  53763800\n",
       "2024-07-29  544.350334  545.377153  541.060376  543.094177  39515800\n",
       "2024-07-30  544.589573  545.666288  536.873251  540.342590  46853600\n",
       "\n",
       "[6182 rows x 5 columns]"
      ]
     },
     "execution_count": 7,
     "metadata": {},
     "output_type": "execute_result"
    }
   ],
   "source": [
    "spy = pd.read_csv('../app/static/data/spy.csv', parse_dates=['date'])\n",
    "spy.set_index('date', inplace=True)\n",
    "spy"
   ]
  },
  {
   "cell_type": "code",
   "execution_count": 8,
   "metadata": {},
   "outputs": [
    {
     "name": "stdout",
     "output_type": "stream",
     "text": [
      "======================= BENCHMARK BUY-N-HOLD PERFORMANCE =======================\n",
      "Trading Days: 6181\n",
      "'Up' days: 3357 (54.31%)\n",
      "'Down' days: 2803 (45.35%)\n",
      "Total Return: 480.98%\n",
      "Annualised Volatility: 19.47%\n",
      "Maximum Drawdown: -55.19%\n",
      "Profit Factor: 1.073\n",
      "Average Profit: 0.008\n",
      "Average Loss: 0.009\n",
      "Benchmark performance dict = {'trade_days': '6181', 'up_days': '3357', 'up_days_percentage': '54.31', 'down_days': '2803', 'down_days_percentage': '45.35', 'total_return': '480.98', 'annualised_volatility': '19.47', 'maximum_drawdown': '-55.19', 'profit_factor': '1.073', 'average_profit': '0.008', 'average_loss_display': '0.009'}\n"
     ]
    },
    {
     "data": {
      "text/plain": [
       "{'trade_days': '6181',\n",
       " 'up_days': '3357',\n",
       " 'up_days_percentage': '54.31',\n",
       " 'down_days': '2803',\n",
       " 'down_days_percentage': '45.35',\n",
       " 'total_return': '480.98',\n",
       " 'annualised_volatility': '19.47',\n",
       " 'maximum_drawdown': '-55.19',\n",
       " 'profit_factor': '1.073',\n",
       " 'average_profit': '0.008',\n",
       " 'average_loss_display': '0.009'}"
      ]
     },
     "execution_count": 8,
     "metadata": {},
     "output_type": "execute_result"
    }
   ],
   "source": [
    "# just a performance statistic of buying and holding the S&P 500 for the entire period\n",
    "utils.benchmark_performance(spy, START_DATE, END_DATE)"
   ]
  },
  {
   "cell_type": "markdown",
   "metadata": {},
   "source": [
    "# Data Cleaning\n",
    "\n",
    "Check for any missing values before storing for further processing."
   ]
  },
  {
   "cell_type": "code",
   "execution_count": null,
   "metadata": {},
   "outputs": [],
   "source": [
    "df.info()"
   ]
  },
  {
   "cell_type": "code",
   "execution_count": null,
   "metadata": {},
   "outputs": [],
   "source": [
    "df.isnull().sum()"
   ]
  },
  {
   "cell_type": "markdown",
   "metadata": {},
   "source": [
    "No missing values to fill. Market holidays have been automatically excluded."
   ]
  },
  {
   "cell_type": "markdown",
   "metadata": {},
   "source": [
    "# Data Store"
   ]
  },
  {
   "cell_type": "code",
   "execution_count": 48,
   "metadata": {},
   "outputs": [],
   "source": [
    "# format is just a csv file with column names above\n",
    "df.to_csv('../app/static/data/ohlcv.csv', index=False)"
   ]
  },
  {
   "cell_type": "markdown",
   "metadata": {},
   "source": [
    "# Data Processing\n",
    "\n",
    "Construct the indicators' values for each stock."
   ]
  },
  {
   "cell_type": "code",
   "execution_count": null,
   "metadata": {},
   "outputs": [],
   "source": [
    "# load the data into proper format for processing\n",
    "df = pd.read_csv('../app/static/data/ohlcv.csv', parse_dates=['date'])\n",
    "df.set_index(['date', 'ticker'], inplace=True)\n",
    "df.head()"
   ]
  },
  {
   "cell_type": "markdown",
   "metadata": {},
   "source": [
    "Documentation: [pandas-ta](https://twopirllc.github.io/pandas-ta/)"
   ]
  },
  {
   "cell_type": "code",
   "execution_count": 51,
   "metadata": {},
   "outputs": [],
   "source": [
    "def contruct_indicators(group):\n",
    "\n",
    "    # indicator: Simple Moving Averages\n",
    "    group['sma_5'] = ta.sma(group['close'], length=5)\n",
    "    group['sma_10'] = ta.sma(group['close'], length=10)\n",
    "    group['sma_21'] = ta.sma(group['close'], length=21)\n",
    "    group['sma_50'] = ta.sma(group['close'], length=50)\n",
    "    group['sma_100'] = ta.sma(group['close'], length=100)\n",
    "    group['sma_200'] = ta.sma(group['close'], length=200)\n",
    "\n",
    "    # indicator: Exponential Moving Averages\n",
    "    group['ema_5'] = ta.ema(group['close'], length=5)\n",
    "    group['ema_10'] = ta.ema(group['close'], length=10)\n",
    "    group['ema_21'] = ta.ema(group['close'], length=21)\n",
    "    group['ema_50'] = ta.ema(group['close'], length=50)\n",
    "    group['ema_100'] = ta.ema(group['close'], length=100)\n",
    "    group['ema_200'] = ta.ema(group['close'], length=200)\n",
    "\n",
    "    # indicator: normalized volume\n",
    "    group['norm_volume_3'] = group['volume'] / group['volume'].rolling(3).median()\n",
    "    group['norm_volume_5'] = group['volume'] / group['volume'].rolling(5).median()\n",
    "    group['norm_volume_10'] = group['volume'] / group['volume'].rolling(10).median()\n",
    "    group['norm_volume_21'] = group['volume'] / group['volume'].rolling(21).median()\n",
    "    group['norm_volume_50'] = group['volume'] / group['volume'].rolling(50).median()\n",
    "\n",
    "    # indicator: Relative Strength Index\n",
    "    group['rsi_7'] = ta.rsi(group['close'], length=7)\n",
    "    group['rsi_9'] = ta.rsi(group['close'], length=9)\n",
    "    group['rsi_10'] = ta.rsi(group['close'], length=10)\n",
    "    group['rsi_14'] = ta.rsi(group['close'], length=14)\n",
    "    \n",
    "\n",
    "    # indicator: Average Directional Index\n",
    "    adx_result = ta.adx(group['high'], group['low'], group['close'], length=3)\n",
    "    group['adx_3'] = adx_result['ADX_3']\n",
    "    group['+DI_3'] = adx_result['DMP_3']  # +DI\n",
    "    group['-DI_3'] = adx_result['DMN_3']  # -DI\n",
    "\n",
    "    adx_result = ta.adx(group['high'], group['low'], group['close'], length=5)\n",
    "    group['adx_5'] = adx_result['ADX_5']\n",
    "    group['+DI_5'] = adx_result['DMP_5']  # +DI\n",
    "    group['-DI_5'] = adx_result['DMN_5']  # -DI\n",
    "\n",
    "    adx_result = ta.adx(group['high'], group['low'], group['close'], length=7)\n",
    "    group['adx_7'] = adx_result['ADX_7']\n",
    "    group['+DI_7'] = adx_result['DMP_7']  # +DI\n",
    "    group['-DI_7'] = adx_result['DMN_7']  # -DI\n",
    "\n",
    "    adx_result = ta.adx(group['high'], group['low'], group['close'], length=14)\n",
    "    group['adx_14'] = adx_result['ADX_14']\n",
    "    group['+DI_14'] = adx_result['DMP_14']  # +DI\n",
    "    group['-DI_14'] = adx_result['DMN_14']  # -DI\n",
    "\n",
    "    # indicator: Bollinger Bands\n",
    "    bband_result = ta.bbands(group['close'])\n",
    "    group['bb_5_lb'] = bband_result['BBL_5_2.0']\n",
    "    group['bb_5_mb'] = bband_result['BBM_5_2.0']\n",
    "    group['bb_5_ub'] = bband_result['BBU_5_2.0']\n",
    "    group['bb_5_bw'] = bband_result['BBB_5_2.0']\n",
    "    group['bb_5_p'] = bband_result['BBP_5_2.0']\n",
    "\n",
    "    return group\n",
    "\n",
    "def log_returns(group, periods=[1]):\n",
    "    # daily log return\n",
    "    group['log_return'] = np.log(group['close']) -  np.log(group['close'].shift(1))\n",
    "    return group"
   ]
  },
  {
   "cell_type": "code",
   "execution_count": null,
   "metadata": {},
   "outputs": [],
   "source": [
    "df_returns = df.groupby('ticker', group_keys=False).apply(log_returns)\n",
    "df_indicators = df_returns.groupby('ticker', group_keys=False).apply(contruct_indicators)\n",
    "df_indicators"
   ]
  },
  {
   "cell_type": "markdown",
   "metadata": {},
   "source": [
    "# Data Analysis and Visualization\n",
    "\n",
    "In this section, we attempt to identify possible patterns from the technical indicators e.g. Moving Average Crossover. \\\n",
    "For it to be meaningful, we analyse the signals generated by the indicators with respect to future returns over some period.\n",
    "\n",
    "Possible WebApp Framework for Interactive Visualisation: [Dash](https://dash.plotly.com/?_gl=1*ta35r5*_gcl_au*Mjk1MjQ3NTI2LjE3MjY5MjA3ODU.*_ga*Nzk0MzAyNTg4LjE3MjY5MjA3ODY.*_ga_6G7EE0JNSC*MTcyNjkyMDc4NS4xLjAuMTcyNjkyMDc4NS42MC4wLjA)\n",
    "\n",
    "Difference between Dash and Plotly: [here](https://stackoverflow.com/questions/53146357/whats-the-difference-between-dash-and-plotly)"
   ]
  },
  {
   "cell_type": "code",
   "execution_count": null,
   "metadata": {},
   "outputs": [],
   "source": [
    "# possibly a dropdown to let user select ticker to visualize\n",
    "TICKER = 'KO'\n",
    "data = df_indicators.xs(level='ticker', key=TICKER)\n",
    "data"
   ]
  },
  {
   "cell_type": "markdown",
   "metadata": {},
   "source": [
    "### Strategy 1: EMA Crossover\n",
    "\n",
    "EMA(21) crossing over the EMA(50) is generally seen as a bullish signal.\n",
    "\n",
    "This strategy simply takes a long position when it occurs and holds it for K number of days (profiting/losing the K-day returns)."
   ]
  },
  {
   "cell_type": "code",
   "execution_count": 18,
   "metadata": {},
   "outputs": [],
   "source": [
    "DEFAULT_COLUMNS = ['open', 'high', 'low', 'close']"
   ]
  },
  {
   "cell_type": "code",
   "execution_count": 19,
   "metadata": {},
   "outputs": [],
   "source": [
    "# required indicators\n",
    "strategy = data[DEFAULT_COLUMNS + ['rsi_14', 'log_return','ema_21', 'ema_50']].dropna().copy()\n",
    "# strategy signal\n",
    "strategy['signal'] = (strategy ['ema_21'] > strategy['ema_50']).astype(np.int32)"
   ]
  },
  {
   "cell_type": "code",
   "execution_count": 20,
   "metadata": {},
   "outputs": [],
   "source": [
    "strategy['2d_log_return'] = strategy['log_return'].rolling(2).sum()\n",
    "strategy['3d_log_return'] = strategy['log_return'].rolling(3).sum()\n",
    "strategy['4d_log_return'] = strategy['log_return'].rolling(4).sum()\n",
    "strategy['5d_log_return'] = strategy['log_return'].rolling(5).sum()\n",
    "strategy['7d_log_return'] = strategy['log_return'].rolling(7).sum()\n",
    "strategy['10d_log_return'] = strategy['log_return'].rolling(10).sum()\n",
    "strategy.dropna(inplace=True)"
   ]
  },
  {
   "cell_type": "code",
   "execution_count": 21,
   "metadata": {},
   "outputs": [],
   "source": [
    "K = 7 # can change the number here as desired\n",
    "strategy['target'] = strategy[f'{K}d_log_return'].shift(-K)  \n",
    "strategy.dropna(inplace=True)\n",
    "strategy['log_returns'] = (strategy['signal'] * strategy['target'])\n",
    "strategy['returns'] = np.exp(strategy.log_returns) - 1"
   ]
  },
  {
   "cell_type": "code",
   "execution_count": null,
   "metadata": {},
   "outputs": [],
   "source": [
    "# print the performance statistic of the strategy and the buy-and-hold\n",
    "start_date = '2010-01-01'\n",
    "end_date = '2022-12-31'\n",
    "utils.benchmark_performance(data, start_date, end_date)\n",
    "utils.strategy_peformance(strategy.loc[start_date:end_date])"
   ]
  },
  {
   "cell_type": "code",
   "execution_count": null,
   "metadata": {},
   "outputs": [],
   "source": [
    "strategy"
   ]
  },
  {
   "cell_type": "code",
   "execution_count": null,
   "metadata": {},
   "outputs": [],
   "source": [
    "###\n",
    "start_date = '2010-01-01'\n",
    "end_date = '2022-12-31'\n",
    "utils.visualise_pricechart(strategy, start=start_date, end=end_date, indicators=['EMA'], signal_marker=True)"
   ]
  },
  {
   "cell_type": "code",
   "execution_count": null,
   "metadata": {},
   "outputs": [],
   "source": [
    "# visualize the performance of the strategy\n",
    "ax = (strategy.loc[start_date:end_date].returns + 1).cumprod().plot(kind='line', label='EMA Crossover', title='Strategy Performances', ylabel='Total Return (multiples)', figsize=(10,6))\n",
    "(np.exp(strategy.loc[start_date:end_date].log_return.cumsum())).plot(kind='line', label='Buy and Hold', grid=True, ax=ax)\n",
    "ax.xaxis.set_major_locator(mdates.YearLocator())  # set ticks for each year\n",
    "ax.xaxis.set_major_formatter(mdates.DateFormatter('%Y')) # format of the year label\n",
    "plt.legend(loc='upper left');"
   ]
  },
  {
   "cell_type": "markdown",
   "metadata": {},
   "source": [
    "### Strategy 2: EMA Crossover + RSI\n",
    "\n",
    "Additional and RSI value below (above) 30 (70) is generally seen as oversold (overbought).\n",
    "\n",
    "A moving from below 30 (above 70) to above (below) it is seen as a bullish (bearish indicator). We try to overlay these two indicators to improve performance."
   ]
  },
  {
   "cell_type": "code",
   "execution_count": 54,
   "metadata": {},
   "outputs": [],
   "source": [
    "# required indicators\n",
    "strategy = data[DEFAULT_COLUMNS + \n",
    "    [\n",
    "        'volume', 'log_return',\n",
    "        'ema_5', 'ema_10','ema_21', 'ema_50',\n",
    "        'rsi_7', 'rsi_9', 'rsi_10', 'rsi_14',\n",
    "    ]\n",
    "].dropna()\n",
    "\n",
    "K = 7 # using the same K=7 as before\n",
    "RSI_K = 14\n",
    "\n",
    "# strategy idea\n",
    "# by adding more indicators as a filters, we should expect lesser trades and perhaps less volatility than previous strategy\n",
    "strategy['signal'] = (\n",
    "    (strategy['ema_21'] > strategy['ema_50']) & \n",
    "    (strategy[f'rsi_{RSI_K}'] < 50)\n",
    ").astype(np.int32)\n",
    "\n",
    "strategy['target'] = strategy['log_return'].rolling(K).sum().shift(-K)\n",
    "strategy.dropna(inplace=True)\n",
    "strategy['log_returns'] = (strategy['signal'] * strategy['target'])\n",
    "strategy['returns'] = np.exp(strategy.log_returns) - 1"
   ]
  },
  {
   "cell_type": "code",
   "execution_count": null,
   "metadata": {},
   "outputs": [],
   "source": [
    "strategy"
   ]
  },
  {
   "cell_type": "code",
   "execution_count": null,
   "metadata": {},
   "outputs": [],
   "source": [
    "# print the performance statistic of the strategy and the buy-and-hold\n",
    "start_date = '2010-01-01'\n",
    "end_date = '2022-12-31'\n",
    "utils.benchmark_performance(data, start_date, end_date)\n",
    "utils.strategy_peformance(strategy.loc[start_date:end_date])"
   ]
  },
  {
   "cell_type": "code",
   "execution_count": null,
   "metadata": {},
   "outputs": [],
   "source": [
    "###\n",
    "\n",
    "utils.visualise_pricechart(strategy, start=start_date, end=end_date, indicators=['EMA'], signal_marker=True)"
   ]
  },
  {
   "cell_type": "markdown",
   "metadata": {},
   "source": [
    "<!-- Notice that the volatility and maximum drawndown is much lesser now, which is desirable.\n",
    "\n",
    "But as this signal occurs rarely, the number of trades decreases a lot as well. \n",
    "\n",
    "Nonetheless, this strategy can be a great addition to an arsenal of strategies. -->"
   ]
  },
  {
   "cell_type": "code",
   "execution_count": null,
   "metadata": {},
   "outputs": [],
   "source": [
    "# visualize the performance of the strategy\n",
    "ax = (strategy.loc[start_date:end_date].returns + 1).cumprod().plot(kind='line', label='EMA Crossover + RSI', title='Strategy Performances', ylabel='Total Return (multiples)', figsize=(10,6))\n",
    "(np.exp(strategy.loc[start_date:end_date].log_return.cumsum())).plot(kind='line', label='Buy and Hold', grid=True, ax=ax)\n",
    "ax.xaxis.set_major_locator(mdates.YearLocator())  # set ticks for each year\n",
    "ax.xaxis.set_major_formatter(mdates.DateFormatter('%Y')) # format of the year label\n",
    "plt.legend(loc='upper left');"
   ]
  },
  {
   "cell_type": "markdown",
   "metadata": {},
   "source": [
    "### Strategy 3: RSI + ADX"
   ]
  },
  {
   "cell_type": "code",
   "execution_count": 76,
   "metadata": {},
   "outputs": [],
   "source": [
    "# required indicators\n",
    "strategy = data[DEFAULT_COLUMNS + \n",
    "    [\n",
    "        'volume', 'log_return',\n",
    "        'rsi_7', 'rsi_9', 'rsi_10', 'rsi_14',\n",
    "        'adx_3', 'adx_5', 'adx_7', 'adx_14',\n",
    "\n",
    "    ]\n",
    "].dropna()\n",
    "\n",
    "K = 7 # using the same K=7 as before\n",
    "RSI_K = 14\n",
    "ADX_K = 14\n",
    "\n",
    "# strategy idea\n",
    "# by adding more indicators as a filters, we should expect lesser trades and perhaps less volatility\n",
    "strategy['signal'] = (\n",
    "    (strategy[f'rsi_{RSI_K}'] < 45) &\n",
    "    (strategy[f'adx_{ADX_K}'] > 30)\n",
    ").astype(np.int32)\n",
    "\n",
    "strategy['target'] = strategy['log_return'].rolling(K).sum().shift(-K)\n",
    "strategy.dropna(inplace=True)\n",
    "strategy['log_returns'] = (strategy['signal'] * strategy['target'])\n",
    "strategy['returns'] = np.exp(strategy.log_returns) - 1"
   ]
  },
  {
   "cell_type": "code",
   "execution_count": null,
   "metadata": {},
   "outputs": [],
   "source": [
    "# print the performance statistic of the strategy and the buy-and-hold\n",
    "start_date = '2010-01-01'\n",
    "end_date = '2022-12-31'\n",
    "utils.benchmark_performance(data, start_date, end_date)\n",
    "utils.strategy_peformance(strategy.loc[start_date:end_date])"
   ]
  },
  {
   "cell_type": "code",
   "execution_count": null,
   "metadata": {},
   "outputs": [],
   "source": [
    "###\n",
    "utils.visualise_pricechart(strategy, start=start_date, end=end_date, indicators=[], signal_marker=True)"
   ]
  },
  {
   "cell_type": "code",
   "execution_count": null,
   "metadata": {},
   "outputs": [],
   "source": [
    "# visualize the performance of the strategy\n",
    "ax = (strategy.loc[start_date:end_date].returns + 1).cumprod().plot(kind='line', label='EMA Crossover', title='Strategy Performances', ylabel='Total Return (multiples)', figsize=(10,6))\n",
    "(np.exp(strategy.loc[start_date:end_date].log_return.cumsum())).plot(kind='line', label='Buy and Hold', grid=True, ax=ax)\n",
    "ax.xaxis.set_major_locator(mdates.YearLocator())  # set ticks for each year\n",
    "ax.xaxis.set_major_formatter(mdates.DateFormatter('%Y')) # format of the year label\n",
    "plt.legend(loc='upper left');"
   ]
  },
  {
   "cell_type": "markdown",
   "metadata": {},
   "source": [
    "### Strategy 4: Machine Learning + Technical Indicators\n",
    "\n",
    "Improvement of Strategy 1. The signal EMA(21) > EMA(50) will be the condition for the model to be applied as a filter.\n",
    "The model learns the validity of the signal from other technical indicator and features such as normalised volumes, bollinger bands, distance between prices from the bounds of the bollinger bands etc."
   ]
  },
  {
   "cell_type": "code",
   "execution_count": 26,
   "metadata": {},
   "outputs": [],
   "source": [
    "from sklearn.ensemble import RandomForestClassifier\n",
    "from sklearn.metrics import accuracy_score, f1_score"
   ]
  },
  {
   "cell_type": "code",
   "execution_count": null,
   "metadata": {},
   "outputs": [],
   "source": [
    "# create features (independent variables) and target (dependent variable)\n",
    "strategy = data[\n",
    "    [\n",
    "        'close', 'log_return',\n",
    "        'ema_5', 'ema_10', 'ema_21','ema_50',\n",
    "        'rsi_14',\n",
    "        'adx_14',\n",
    "        'norm_volume_5','norm_volume_10','norm_volume_21',\n",
    "        'bb_5_lb', 'bb_5_ub', 'bb_5_mb', 'bb_5_bw', 'bb_5_p'\n",
    "    ]\n",
    "].dropna()\n",
    "\n",
    "strategy['x1'] = strategy['bb_5_ub'] - strategy['close']\n",
    "strategy['x2'] = strategy['close'] - strategy['bb_5_mb']\n",
    "strategy['x3'] = strategy['close'] - strategy['bb_5_lb'] \n",
    "strategy['x4'] = strategy['close'] - strategy['ema_10']\n",
    "strategy['x5'] = strategy['ema_10'] - strategy['ema_21']\n",
    "strategy['x6'] = strategy['ema_21'] - strategy['ema_50']\n",
    "\n",
    "# create target variable to predict - idea is that since the default strategy would not be 100% accurate\n",
    "# we will use the machine learning model to learn and filter out the signals using information from other indicators\n",
    "K = 7 # using the same K=7 as before\n",
    "RSI_K = 14\n",
    "\n",
    "strategy['signal'] = (\n",
    "    strategy['ema_21'] > strategy['ema_50']\n",
    ").astype(np.int32)\n",
    "strategy['returns'] = np.exp(strategy['signal'] * strategy['log_return'].rolling(K).sum().shift(-K)) - 1\n",
    "strategy.dropna(inplace=True)\n",
    "\n",
    "dataset = strategy[strategy.signal == 1].copy()\n",
    "dataset['target'] = (dataset.returns > 0).astype(np.int32)\n",
    "\n",
    "# train-test split\n",
    "TRAIN_END = '2022-12-31' # define last period of training date\n",
    "TEST_PERIOD_WEEKS = 52\n",
    "TEST_START = str((pd.to_datetime(TRAIN_END) + pd.Timedelta(value=TEST_PERIOD_WEEKS, unit='W')).date())\n",
    "train = dataset.loc[:TRAIN_END]\n",
    "test = dataset.loc[TEST_START:]\n",
    "\n",
    "# train the model \n",
    "FEATURES = ['rsi_14', 'adx_14', 'bb_5_bw', 'bb_5_p','norm_volume_5', 'norm_volume_10','x1', 'x2', 'x3', 'x4', 'x5', 'x6']\n",
    "train_X, train_y = train[FEATURES], train['target']\n",
    "model = RandomForestClassifier() # instantiate the model \n",
    "model.fit(train_X, train_y) # this api call trains the model"
   ]
  },
  {
   "cell_type": "code",
   "execution_count": null,
   "metadata": {},
   "outputs": [],
   "source": [
    "# evaluate the model accuracy\n",
    "test_X, test_y = test[FEATURES], test['target']\n",
    "y_pred = model.predict(test_X)\n",
    "acc = accuracy_score(test_y, y_pred)\n",
    "f1 = f1_score(test_y, y_pred)\n",
    "\n",
    "print(f\"Model Accuracy: {acc*100:.2f}%\")\n",
    "# print(f\"Model F1-Score: {f1:.2f}\")"
   ]
  },
  {
   "cell_type": "code",
   "execution_count": null,
   "metadata": {},
   "outputs": [],
   "source": [
    "# without using model\n",
    "out_of_sample_without_model = strategy[strategy.signal == 1].loc[TEST_START:]\n",
    "utils.strategy_peformance(out_of_sample_without_model)"
   ]
  },
  {
   "cell_type": "code",
   "execution_count": null,
   "metadata": {},
   "outputs": [],
   "source": [
    "# visualize the performance of the strategy without using model\n",
    "(out_of_sample_without_model.returns + 1).cumprod().plot(kind='line', grid=True, title='Strategy Performance', figsize=(10,6));"
   ]
  },
  {
   "cell_type": "code",
   "execution_count": null,
   "metadata": {},
   "outputs": [],
   "source": [
    "# strategy performance using the model\n",
    "# notice the large decrease in maximum drawdown, the model was able to filter our drastic false signals\n",
    "# winning rate has also improved a lot\n",
    "out_of_sample_with_model = strategy[strategy.signal == 1].loc[TEST_START:].copy()\n",
    "out_of_sample_with_model['signal'] = y_pred\n",
    "out_of_sample_with_model = out_of_sample_with_model[out_of_sample_with_model.signal == 1]\n",
    "utils.strategy_peformance(out_of_sample_with_model)"
   ]
  },
  {
   "cell_type": "code",
   "execution_count": 86,
   "metadata": {},
   "outputs": [],
   "source": [
    "# utils.benchmark_performance(spy, '2024-01-01', '2024-07-20') # and we kind of beat the index as well"
   ]
  },
  {
   "cell_type": "code",
   "execution_count": null,
   "metadata": {},
   "outputs": [],
   "source": [
    "strategy['signal'] = 0\n",
    "for datetime in out_of_sample_with_model.index:\n",
    "    strategy.at[datetime, 'signal'] = 1"
   ]
  },
  {
   "cell_type": "code",
   "execution_count": null,
   "metadata": {},
   "outputs": [],
   "source": [
    "utils.visualise_pricechart(strategy, start=str(test.index[0].date()), end=str(test.index[-1].date()), indicators=[], signal_marker=True)"
   ]
  },
  {
   "cell_type": "code",
   "execution_count": null,
   "metadata": {},
   "outputs": [],
   "source": [
    "# visualize the performance of the strategy using model - notice the fewer sharp drops throughout the period\n",
    "(out_of_sample_with_model.returns + 1).cumprod().plot(kind='line', grid=True, title='Strategy Performance', figsize=(10,6));"
   ]
  },
  {
   "cell_type": "code",
   "execution_count": null,
   "metadata": {},
   "outputs": [],
   "source": [
    "ax = (out_of_sample_without_model.returns + 1).cumprod().plot(kind='line', label='Strategy 1: EMA Crossover', title='Strategy Performances', ylabel='Total Return (multiples)', figsize=(10,6))\n",
    "(out_of_sample_with_model.returns + 1).cumprod().plot(kind='line', label='Strategy 4: Strategy 1 + ML Filter', grid=True, ax=ax)\n",
    "# ax.xaxis.set_major_locator(mdates.YearLocator())  # set ticks for each year\n",
    "# ax.xaxis.set_major_formatter(mdates.DateFormatter('%Y')) # format of the year label\n",
    "plt.legend(loc='upper left');"
   ]
  },
  {
   "cell_type": "markdown",
   "metadata": {},
   "source": [
    "### Simple Price Chart Visualisation"
   ]
  },
  {
   "cell_type": "code",
   "execution_count": 175,
   "metadata": {},
   "outputs": [],
   "source": [
    "# # TO BE REFINED LATER ON IF NEED BE:\n",
    "\n",
    "# # Create subplots: 2 rows, 1 column with shared x-axis\n",
    "# fig = make_subplots(\n",
    "#     rows=2, cols=1,\n",
    "#     shared_xaxes=True,\n",
    "#     vertical_spacing=0.1,\n",
    "#     row_heights=[0.7, 0.3],  # Relative heights of the subplots\n",
    "#     subplot_titles=[f'Candlestick with SMA for {TICKER}', 'RSI and ADX']\n",
    "# )\n",
    "\n",
    "# # Add candlestick trace to the first row\n",
    "# fig.add_trace(\n",
    "#     go.Candlestick(\n",
    "#         x=data.index,\n",
    "#         open=data['open'],\n",
    "#         high=data['high'],\n",
    "#         low=data['low'],\n",
    "#         close=data['close'],\n",
    "#         name='Candlestick'\n",
    "#     ),\n",
    "#     row=1, col=1\n",
    "# )\n",
    "\n",
    "# # Add moving average trace to the first row\n",
    "# fig.add_trace(\n",
    "#     go.Scatter(\n",
    "#         x=data.index,\n",
    "#         y=data['sma_10'],\n",
    "#         mode='lines',\n",
    "#         name='SMA(10)',\n",
    "#         line=dict(color='green', width=1)\n",
    "#     ),\n",
    "#     row=1, col=1\n",
    "# )\n",
    "# fig.add_trace(\n",
    "#     go.Scatter(\n",
    "#         x=data.index,\n",
    "#         y=data['sma_21'],\n",
    "#         mode='lines',\n",
    "#         name='SMA(21)',\n",
    "#         line=dict(color='blue', width=1)\n",
    "#     ),\n",
    "#     row=1, col=1\n",
    "# )\n",
    "\n",
    "# # Add RSI trace to the second row\n",
    "# fig.add_trace(\n",
    "#     go.Scatter(\n",
    "#         x=data.index,\n",
    "#         y=data['rsi_7'],\n",
    "#         mode='lines',\n",
    "#         name='RSI 7',\n",
    "#         line=dict(color='purple', width=2)\n",
    "#     ),\n",
    "#     row=2, col=1\n",
    "# )\n",
    "\n",
    "# # # Add ADX trace to the second row\n",
    "# fig.add_trace(\n",
    "#     go.Scatter(\n",
    "#         x=data.index,\n",
    "#         y=data['adx_14'],\n",
    "#         mode='lines',\n",
    "#         name='ADX 14',\n",
    "#         line=dict(color='green', width=2)\n",
    "#     ),\n",
    "#     row=2, col=1\n",
    "# )\n",
    "\n",
    "# # Update layout for the subplots\n",
    "# fig.update_layout(\n",
    "#     title=f'OHLC with SMA and Indicators for {TICKER}',\n",
    "#     xaxis2_title='Date',  # Title for the second subplot's x-axis\n",
    "#     yaxis=dict(title='OHLC'),\n",
    "#     width=1200,\n",
    "#     height=800,\n",
    "#     yaxis2=dict(title='RSI & ADX (0-100)', range=[0, 100]),  # Set the y-axis range for RSI and ADX\n",
    "#     xaxis_rangeslider_visible=False,  # Hide range slider\n",
    "#     legend=dict(x=0.01, y=0.99)\n",
    "# )\n",
    "# fig.show()"
   ]
  },
  {
   "cell_type": "code",
   "execution_count": null,
   "metadata": {},
   "outputs": [],
   "source": []
  }
 ],
 "metadata": {
  "kernelspec": {
   "display_name": "stockanalyzerenv",
   "language": "python",
   "name": "python3"
  },
  "language_info": {
   "codemirror_mode": {
    "name": "ipython",
    "version": 3
   },
   "file_extension": ".py",
   "mimetype": "text/x-python",
   "name": "python",
   "nbconvert_exporter": "python",
   "pygments_lexer": "ipython3",
   "version": "3.12.6"
  }
 },
 "nbformat": 4,
 "nbformat_minor": 2
}
