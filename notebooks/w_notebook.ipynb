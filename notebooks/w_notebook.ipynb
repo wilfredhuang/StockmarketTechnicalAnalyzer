{
 "cells": [
  {
   "cell_type": "code",
   "execution_count": 1,
   "metadata": {},
   "outputs": [],
   "source": [
    "# Wilfred's Notebook\n",
    "import pandas as pd\n",
    "import numpy as np\n",
    "import matplotlib.pylab as plt\n",
    "import seaborn as sns\n",
    "plt.style.use('ggplot')\n",
    "# pd.set_option('max_columns', 200)\n"
   ]
  },
  {
   "cell_type": "code",
   "execution_count": 3,
   "metadata": {},
   "outputs": [],
   "source": [
    "df = pd.read_csv('../app/static/data/stock_data_20240910_201551.csv')"
   ]
  },
  {
   "cell_type": "code",
   "execution_count": 5,
   "metadata": {},
   "outputs": [
    {
     "name": "stdout",
     "output_type": "stream",
     "text": [
      "             Date        Open        High         Low       Close  \\\n",
      "0      2014-09-12   22.466272   22.683810   22.437415   22.566162   \n",
      "1      2014-09-15   22.821440   22.874716   22.517333   22.559507   \n",
      "2      2014-09-16   22.153291   22.477377   21.951291   22.388586   \n",
      "3      2014-09-17   22.479591   22.597240   22.328646   22.548405   \n",
      "4      2014-09-18   22.626099   22.719329   22.543967   22.595022   \n",
      "...           ...         ...         ...         ...         ...   \n",
      "47761  2024-09-03  700.099976  703.859985  671.010010  675.320007   \n",
      "47762  2024-09-04  673.309998  684.650024  673.059998  679.679993   \n",
      "47763  2024-09-05  673.140015  687.309998  671.859985  683.619995   \n",
      "47764  2024-09-06  681.859985  683.150024  662.340027  665.770020   \n",
      "47765  2024-09-09  674.000000  683.500000  672.140015  675.419983   \n",
      "\n",
      "            Volume  Dividends  Stock Splits Symbol  Adj Close  \n",
      "0      250504400.0        0.0           0.0   AAPL        NaN  \n",
      "1      245266000.0        0.0           0.0   AAPL        NaN  \n",
      "2      267632400.0        0.0           0.0   AAPL        NaN  \n",
      "3      243706000.0        0.0           0.0   AAPL        NaN  \n",
      "4      149197600.0        0.0           0.0   AAPL        NaN  \n",
      "...            ...        ...           ...    ...        ...  \n",
      "47761    3161000.0        0.0           0.0   NFLX        NaN  \n",
      "47762    1785300.0        0.0           0.0   NFLX        NaN  \n",
      "47763    1810100.0        0.0           0.0   NFLX        NaN  \n",
      "47764    2991300.0        0.0           0.0   NFLX        NaN  \n",
      "47765    2680800.0        0.0           0.0   NFLX        NaN  \n",
      "\n",
      "[47766 rows x 10 columns]\n"
     ]
    }
   ],
   "source": [
    "print(df)"
   ]
  }
 ],
 "metadata": {
  "kernelspec": {
   "display_name": "stockanalyzerenv",
   "language": "python",
   "name": "python3"
  },
  "language_info": {
   "codemirror_mode": {
    "name": "ipython",
    "version": 3
   },
   "file_extension": ".py",
   "mimetype": "text/x-python",
   "name": "python",
   "nbconvert_exporter": "python",
   "pygments_lexer": "ipython3",
   "version": "3.12.4"
  }
 },
 "nbformat": 4,
 "nbformat_minor": 2
}
